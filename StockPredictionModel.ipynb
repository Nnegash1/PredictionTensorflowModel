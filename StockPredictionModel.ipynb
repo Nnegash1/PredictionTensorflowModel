{
 "cells": [
  {
   "cell_type": "code",
   "execution_count": 88,
   "id": "83a620ab",
   "metadata": {},
   "outputs": [],
   "source": [
    "import pandas_datareader.data as web\n",
    "import tensorflow as tf\n",
    "import numpy as np\n",
    "from sklearn.preprocessing import MinMaxScaler\n",
    "from sklearn.model_selection import train_test_split\n",
    "from tensorflow.keras.layers import Dense, Activation, Dropout\n",
    "from tensorflow import keras\n",
    "from tensorflow.keras import layers\n",
    "from keras.models import Sequential\n",
    "import seaborn as sb\n",
    "import matplotlib.pyplot as plt\n",
    "import keras\n",
    "import os\n",
    "import pandas as pd"
   ]
  },
  {
   "cell_type": "code",
   "execution_count": 89,
   "id": "5adec784",
   "metadata": {},
   "outputs": [
    {
     "data": {
      "text/html": [
       "<div>\n",
       "<style scoped>\n",
       "    .dataframe tbody tr th:only-of-type {\n",
       "        vertical-align: middle;\n",
       "    }\n",
       "\n",
       "    .dataframe tbody tr th {\n",
       "        vertical-align: top;\n",
       "    }\n",
       "\n",
       "    .dataframe thead th {\n",
       "        text-align: right;\n",
       "    }\n",
       "</style>\n",
       "<table border=\"1\" class=\"dataframe\">\n",
       "  <thead>\n",
       "    <tr style=\"text-align: right;\">\n",
       "      <th></th>\n",
       "      <th>Open</th>\n",
       "      <th>High</th>\n",
       "      <th>Low</th>\n",
       "      <th>Close</th>\n",
       "      <th>Volume</th>\n",
       "    </tr>\n",
       "    <tr>\n",
       "      <th>Date</th>\n",
       "      <th></th>\n",
       "      <th></th>\n",
       "      <th></th>\n",
       "      <th></th>\n",
       "      <th></th>\n",
       "    </tr>\n",
       "  </thead>\n",
       "  <tbody>\n",
       "    <tr>\n",
       "      <th>2022-10-05</th>\n",
       "      <td>245.299</td>\n",
       "      <td>249.876</td>\n",
       "      <td>243.414</td>\n",
       "      <td>248.500</td>\n",
       "      <td>2.040448e+07</td>\n",
       "    </tr>\n",
       "    <tr>\n",
       "      <th>2022-10-04</th>\n",
       "      <td>244.401</td>\n",
       "      <td>249.656</td>\n",
       "      <td>244.287</td>\n",
       "      <td>248.181</td>\n",
       "      <td>3.498674e+07</td>\n",
       "    </tr>\n",
       "    <tr>\n",
       "      <th>2022-10-03</th>\n",
       "      <td>234.748</td>\n",
       "      <td>240.931</td>\n",
       "      <td>234.001</td>\n",
       "      <td>240.063</td>\n",
       "      <td>2.896175e+07</td>\n",
       "    </tr>\n",
       "    <tr>\n",
       "      <th>2022-09-30</th>\n",
       "      <td>237.620</td>\n",
       "      <td>239.864</td>\n",
       "      <td>232.076</td>\n",
       "      <td>232.245</td>\n",
       "      <td>3.579543e+07</td>\n",
       "    </tr>\n",
       "    <tr>\n",
       "      <th>2022-09-29</th>\n",
       "      <td>238.189</td>\n",
       "      <td>239.276</td>\n",
       "      <td>233.751</td>\n",
       "      <td>236.833</td>\n",
       "      <td>2.756169e+07</td>\n",
       "    </tr>\n",
       "    <tr>\n",
       "      <th>2022-09-28</th>\n",
       "      <td>236.145</td>\n",
       "      <td>241.649</td>\n",
       "      <td>234.070</td>\n",
       "      <td>240.393</td>\n",
       "      <td>2.911149e+07</td>\n",
       "    </tr>\n",
       "    <tr>\n",
       "      <th>2022-09-27</th>\n",
       "      <td>239.306</td>\n",
       "      <td>241.120</td>\n",
       "      <td>233.841</td>\n",
       "      <td>235.746</td>\n",
       "      <td>2.709488e+07</td>\n",
       "    </tr>\n",
       "    <tr>\n",
       "      <th>2022-09-26</th>\n",
       "      <td>236.379</td>\n",
       "      <td>240.771</td>\n",
       "      <td>236.234</td>\n",
       "      <td>236.783</td>\n",
       "      <td>2.777224e+07</td>\n",
       "    </tr>\n",
       "    <tr>\n",
       "      <th>2022-09-23</th>\n",
       "      <td>238.867</td>\n",
       "      <td>240.452</td>\n",
       "      <td>234.539</td>\n",
       "      <td>237.251</td>\n",
       "      <td>3.427236e+07</td>\n",
       "    </tr>\n",
       "    <tr>\n",
       "      <th>2022-09-22</th>\n",
       "      <td>237.202</td>\n",
       "      <td>243.175</td>\n",
       "      <td>236.902</td>\n",
       "      <td>240.303</td>\n",
       "      <td>3.114870e+07</td>\n",
       "    </tr>\n",
       "  </tbody>\n",
       "</table>\n",
       "</div>"
      ],
      "text/plain": [
       "               Open     High      Low    Close        Volume\n",
       "Date                                                        \n",
       "2022-10-05  245.299  249.876  243.414  248.500  2.040448e+07\n",
       "2022-10-04  244.401  249.656  244.287  248.181  3.498674e+07\n",
       "2022-10-03  234.748  240.931  234.001  240.063  2.896175e+07\n",
       "2022-09-30  237.620  239.864  232.076  232.245  3.579543e+07\n",
       "2022-09-29  238.189  239.276  233.751  236.833  2.756169e+07\n",
       "2022-09-28  236.145  241.649  234.070  240.393  2.911149e+07\n",
       "2022-09-27  239.306  241.120  233.841  235.746  2.709488e+07\n",
       "2022-09-26  236.379  240.771  236.234  236.783  2.777224e+07\n",
       "2022-09-23  238.867  240.452  234.539  237.251  3.427236e+07\n",
       "2022-09-22  237.202  243.175  236.902  240.303  3.114870e+07"
      ]
     },
     "execution_count": 89,
     "metadata": {},
     "output_type": "execute_result"
    }
   ],
   "source": [
    "df = web.DataReader('MSFT', 'stooq', start='1900-01-01', end='2022-10-05')\n",
    "df.head(10)"
   ]
  },
  {
   "cell_type": "code",
   "execution_count": 90,
   "id": "06fe0cde",
   "metadata": {},
   "outputs": [
    {
     "data": {
      "text/html": [
       "<div>\n",
       "<style scoped>\n",
       "    .dataframe tbody tr th:only-of-type {\n",
       "        vertical-align: middle;\n",
       "    }\n",
       "\n",
       "    .dataframe tbody tr th {\n",
       "        vertical-align: top;\n",
       "    }\n",
       "\n",
       "    .dataframe thead th {\n",
       "        text-align: right;\n",
       "    }\n",
       "</style>\n",
       "<table border=\"1\" class=\"dataframe\">\n",
       "  <thead>\n",
       "    <tr style=\"text-align: right;\">\n",
       "      <th></th>\n",
       "      <th>Open</th>\n",
       "      <th>High</th>\n",
       "      <th>Low</th>\n",
       "      <th>Close</th>\n",
       "      <th>Volume</th>\n",
       "    </tr>\n",
       "  </thead>\n",
       "  <tbody>\n",
       "    <tr>\n",
       "      <th>count</th>\n",
       "      <td>9215.000000</td>\n",
       "      <td>9215.000000</td>\n",
       "      <td>9215.000000</td>\n",
       "      <td>9215.000000</td>\n",
       "      <td>9.214000e+03</td>\n",
       "    </tr>\n",
       "    <tr>\n",
       "      <th>mean</th>\n",
       "      <td>40.104739</td>\n",
       "      <td>40.528079</td>\n",
       "      <td>39.667368</td>\n",
       "      <td>40.113233</td>\n",
       "      <td>7.759741e+07</td>\n",
       "    </tr>\n",
       "    <tr>\n",
       "      <th>std</th>\n",
       "      <td>65.091086</td>\n",
       "      <td>65.747807</td>\n",
       "      <td>64.378929</td>\n",
       "      <td>65.096898</td>\n",
       "      <td>5.516562e+07</td>\n",
       "    </tr>\n",
       "    <tr>\n",
       "      <th>min</th>\n",
       "      <td>0.062951</td>\n",
       "      <td>0.062951</td>\n",
       "      <td>0.062951</td>\n",
       "      <td>0.062951</td>\n",
       "      <td>3.268060e+06</td>\n",
       "    </tr>\n",
       "    <tr>\n",
       "      <th>25%</th>\n",
       "      <td>3.394515</td>\n",
       "      <td>3.433675</td>\n",
       "      <td>3.335740</td>\n",
       "      <td>3.418090</td>\n",
       "      <td>4.121986e+07</td>\n",
       "    </tr>\n",
       "    <tr>\n",
       "      <th>50%</th>\n",
       "      <td>20.265400</td>\n",
       "      <td>20.506500</td>\n",
       "      <td>20.046900</td>\n",
       "      <td>20.273200</td>\n",
       "      <td>6.858116e+07</td>\n",
       "    </tr>\n",
       "    <tr>\n",
       "      <th>75%</th>\n",
       "      <td>32.421250</td>\n",
       "      <td>32.825800</td>\n",
       "      <td>32.014750</td>\n",
       "      <td>32.429700</td>\n",
       "      <td>9.795391e+07</td>\n",
       "    </tr>\n",
       "    <tr>\n",
       "      <th>max</th>\n",
       "      <td>341.422000</td>\n",
       "      <td>346.426000</td>\n",
       "      <td>339.019000</td>\n",
       "      <td>339.922000</td>\n",
       "      <td>1.463519e+09</td>\n",
       "    </tr>\n",
       "  </tbody>\n",
       "</table>\n",
       "</div>"
      ],
      "text/plain": [
       "              Open         High          Low        Close        Volume\n",
       "count  9215.000000  9215.000000  9215.000000  9215.000000  9.214000e+03\n",
       "mean     40.104739    40.528079    39.667368    40.113233  7.759741e+07\n",
       "std      65.091086    65.747807    64.378929    65.096898  5.516562e+07\n",
       "min       0.062951     0.062951     0.062951     0.062951  3.268060e+06\n",
       "25%       3.394515     3.433675     3.335740     3.418090  4.121986e+07\n",
       "50%      20.265400    20.506500    20.046900    20.273200  6.858116e+07\n",
       "75%      32.421250    32.825800    32.014750    32.429700  9.795391e+07\n",
       "max     341.422000   346.426000   339.019000   339.922000  1.463519e+09"
      ]
     },
     "execution_count": 90,
     "metadata": {},
     "output_type": "execute_result"
    }
   ],
   "source": [
    "df.reset_index(inplace=True)\n",
    "df.describe()"
   ]
  },
  {
   "cell_type": "code",
   "execution_count": 91,
   "id": "6c981b2a",
   "metadata": {},
   "outputs": [
    {
     "name": "stderr",
     "output_type": "stream",
     "text": [
      "/var/folders/g6/l7z0f90d4x73skf2x96_j5rh0000gp/T/ipykernel_40019/1487081547.py:1: FutureWarning: The default value of numeric_only in DataFrame.corr is deprecated. In a future version, it will default to False. Select only valid columns or specify the value of numeric_only to silence this warning.\n",
      "  corr = df.corr(method='pearson')\n"
     ]
    },
    {
     "data": {
      "text/html": [
       "<div>\n",
       "<style scoped>\n",
       "    .dataframe tbody tr th:only-of-type {\n",
       "        vertical-align: middle;\n",
       "    }\n",
       "\n",
       "    .dataframe tbody tr th {\n",
       "        vertical-align: top;\n",
       "    }\n",
       "\n",
       "    .dataframe thead th {\n",
       "        text-align: right;\n",
       "    }\n",
       "</style>\n",
       "<table border=\"1\" class=\"dataframe\">\n",
       "  <thead>\n",
       "    <tr style=\"text-align: right;\">\n",
       "      <th></th>\n",
       "      <th>Open</th>\n",
       "      <th>High</th>\n",
       "      <th>Low</th>\n",
       "      <th>Close</th>\n",
       "      <th>Volume</th>\n",
       "    </tr>\n",
       "  </thead>\n",
       "  <tbody>\n",
       "    <tr>\n",
       "      <th>Open</th>\n",
       "      <td>1.000000</td>\n",
       "      <td>0.999942</td>\n",
       "      <td>0.999927</td>\n",
       "      <td>0.999856</td>\n",
       "      <td>-0.361602</td>\n",
       "    </tr>\n",
       "    <tr>\n",
       "      <th>High</th>\n",
       "      <td>0.999942</td>\n",
       "      <td>1.000000</td>\n",
       "      <td>0.999903</td>\n",
       "      <td>0.999923</td>\n",
       "      <td>-0.360536</td>\n",
       "    </tr>\n",
       "    <tr>\n",
       "      <th>Low</th>\n",
       "      <td>0.999927</td>\n",
       "      <td>0.999903</td>\n",
       "      <td>1.000000</td>\n",
       "      <td>0.999931</td>\n",
       "      <td>-0.362865</td>\n",
       "    </tr>\n",
       "    <tr>\n",
       "      <th>Close</th>\n",
       "      <td>0.999856</td>\n",
       "      <td>0.999923</td>\n",
       "      <td>0.999931</td>\n",
       "      <td>1.000000</td>\n",
       "      <td>-0.361780</td>\n",
       "    </tr>\n",
       "    <tr>\n",
       "      <th>Volume</th>\n",
       "      <td>-0.361602</td>\n",
       "      <td>-0.360536</td>\n",
       "      <td>-0.362865</td>\n",
       "      <td>-0.361780</td>\n",
       "      <td>1.000000</td>\n",
       "    </tr>\n",
       "  </tbody>\n",
       "</table>\n",
       "</div>"
      ],
      "text/plain": [
       "            Open      High       Low     Close    Volume\n",
       "Open    1.000000  0.999942  0.999927  0.999856 -0.361602\n",
       "High    0.999942  1.000000  0.999903  0.999923 -0.360536\n",
       "Low     0.999927  0.999903  1.000000  0.999931 -0.362865\n",
       "Close   0.999856  0.999923  0.999931  1.000000 -0.361780\n",
       "Volume -0.361602 -0.360536 -0.362865 -0.361780  1.000000"
      ]
     },
     "execution_count": 91,
     "metadata": {},
     "output_type": "execute_result"
    }
   ],
   "source": [
    "corr = df.corr(method='pearson')\n",
    "corr"
   ]
  },
  {
   "cell_type": "code",
   "execution_count": 92,
   "id": "7e2dde12",
   "metadata": {},
   "outputs": [
    {
     "data": {
      "text/plain": [
       "<AxesSubplot: >"
      ]
     },
     "execution_count": 92,
     "metadata": {},
     "output_type": "execute_result"
    },
    {
     "data": {
      "image/png": "[encoded data removed]",
      "text/plain": [
       "<Figure size 640x480 with 2 Axes>"
      ]
     },
     "metadata": {},
     "output_type": "display_data"
    }
   ],
   "source": [
    "sb.heatmap(corr, xticklabels=corr.columns, yticklabels=corr.columns, cmap='RdBu_r', annot=True, linewidth=0.5)"
   ]
  },
  {
   "cell_type": "code",
   "execution_count": 93,
   "id": "cf154617",
   "metadata": {},
   "outputs": [
    {
     "name": "stderr",
     "output_type": "stream",
     "text": [
      "/var/folders/g6/l7z0f90d4x73skf2x96_j5rh0000gp/T/ipykernel_40019/282343396.py:2: FutureWarning: In a future version of pandas all arguments of DataFrame.drop except for the argument 'labels' will be keyword-only.\n",
      "  df = df.drop('Volume', 1)\n"
     ]
    }
   ],
   "source": [
    "# Drop Volume and Adj Close\n",
    "df = df.drop('Volume', 1)"
   ]
  },
  {
   "cell_type": "code",
   "execution_count": 94,
   "id": "a391bdaf",
   "metadata": {},
   "outputs": [
    {
     "data": {
      "text/html": [
       "<div>\n",
       "<style scoped>\n",
       "    .dataframe tbody tr th:only-of-type {\n",
       "        vertical-align: middle;\n",
       "    }\n",
       "\n",
       "    .dataframe tbody tr th {\n",
       "        vertical-align: top;\n",
       "    }\n",
       "\n",
       "    .dataframe thead th {\n",
       "        text-align: right;\n",
       "    }\n",
       "</style>\n",
       "<table border=\"1\" class=\"dataframe\">\n",
       "  <thead>\n",
       "    <tr style=\"text-align: right;\">\n",
       "      <th></th>\n",
       "      <th>Date</th>\n",
       "      <th>Open</th>\n",
       "      <th>High</th>\n",
       "      <th>Low</th>\n",
       "      <th>Close</th>\n",
       "    </tr>\n",
       "  </thead>\n",
       "  <tbody>\n",
       "    <tr>\n",
       "      <th>0</th>\n",
       "      <td>2022-10-05</td>\n",
       "      <td>245.299000</td>\n",
       "      <td>249.876000</td>\n",
       "      <td>243.414000</td>\n",
       "      <td>248.500000</td>\n",
       "    </tr>\n",
       "    <tr>\n",
       "      <th>1</th>\n",
       "      <td>2022-10-04</td>\n",
       "      <td>244.401000</td>\n",
       "      <td>249.656000</td>\n",
       "      <td>244.287000</td>\n",
       "      <td>248.181000</td>\n",
       "    </tr>\n",
       "    <tr>\n",
       "      <th>2</th>\n",
       "      <td>2022-10-03</td>\n",
       "      <td>234.748000</td>\n",
       "      <td>240.931000</td>\n",
       "      <td>234.001000</td>\n",
       "      <td>240.063000</td>\n",
       "    </tr>\n",
       "    <tr>\n",
       "      <th>3</th>\n",
       "      <td>2022-09-30</td>\n",
       "      <td>237.620000</td>\n",
       "      <td>239.864000</td>\n",
       "      <td>232.076000</td>\n",
       "      <td>232.245000</td>\n",
       "    </tr>\n",
       "    <tr>\n",
       "      <th>4</th>\n",
       "      <td>2022-09-29</td>\n",
       "      <td>238.189000</td>\n",
       "      <td>239.276000</td>\n",
       "      <td>233.751000</td>\n",
       "      <td>236.833000</td>\n",
       "    </tr>\n",
       "    <tr>\n",
       "      <th>...</th>\n",
       "      <td>...</td>\n",
       "      <td>...</td>\n",
       "      <td>...</td>\n",
       "      <td>...</td>\n",
       "      <td>...</td>\n",
       "    </tr>\n",
       "    <tr>\n",
       "      <th>9210</th>\n",
       "      <td>1986-03-19</td>\n",
       "      <td>0.070576</td>\n",
       "      <td>0.070576</td>\n",
       "      <td>0.070576</td>\n",
       "      <td>0.070576</td>\n",
       "    </tr>\n",
       "    <tr>\n",
       "      <th>9211</th>\n",
       "      <td>1986-03-18</td>\n",
       "      <td>0.070576</td>\n",
       "      <td>0.070576</td>\n",
       "      <td>0.070576</td>\n",
       "      <td>0.070576</td>\n",
       "    </tr>\n",
       "    <tr>\n",
       "      <th>9212</th>\n",
       "      <td>1986-03-17</td>\n",
       "      <td>0.070576</td>\n",
       "      <td>0.070576</td>\n",
       "      <td>0.070576</td>\n",
       "      <td>0.070576</td>\n",
       "    </tr>\n",
       "    <tr>\n",
       "      <th>9213</th>\n",
       "      <td>1986-03-14</td>\n",
       "      <td>0.070576</td>\n",
       "      <td>0.070576</td>\n",
       "      <td>0.070576</td>\n",
       "      <td>0.070576</td>\n",
       "    </tr>\n",
       "    <tr>\n",
       "      <th>9214</th>\n",
       "      <td>1986-03-13</td>\n",
       "      <td>0.062951</td>\n",
       "      <td>0.070576</td>\n",
       "      <td>0.062951</td>\n",
       "      <td>0.070576</td>\n",
       "    </tr>\n",
       "  </tbody>\n",
       "</table>\n",
       "<p>9215 rows × 5 columns</p>\n",
       "</div>"
      ],
      "text/plain": [
       "           Date        Open        High         Low       Close\n",
       "0    2022-10-05  245.299000  249.876000  243.414000  248.500000\n",
       "1    2022-10-04  244.401000  249.656000  244.287000  248.181000\n",
       "2    2022-10-03  234.748000  240.931000  234.001000  240.063000\n",
       "3    2022-09-30  237.620000  239.864000  232.076000  232.245000\n",
       "4    2022-09-29  238.189000  239.276000  233.751000  236.833000\n",
       "...         ...         ...         ...         ...         ...\n",
       "9210 1986-03-19    0.070576    0.070576    0.070576    0.070576\n",
       "9211 1986-03-18    0.070576    0.070576    0.070576    0.070576\n",
       "9212 1986-03-17    0.070576    0.070576    0.070576    0.070576\n",
       "9213 1986-03-14    0.070576    0.070576    0.070576    0.070576\n",
       "9214 1986-03-13    0.062951    0.070576    0.062951    0.070576\n",
       "\n",
       "[9215 rows x 5 columns]"
      ]
     },
     "execution_count": 94,
     "metadata": {},
     "output_type": "execute_result"
    }
   ],
   "source": [
    "df"
   ]
  },
  {
   "cell_type": "code",
   "execution_count": 95,
   "id": "eb40f6d8",
   "metadata": {},
   "outputs": [
    {
     "data": {
      "image/png": "[encoded data removed]",
      "text/plain": [
       "<Figure size 1600x800 with 1 Axes>"
      ]
     },
     "metadata": {},
     "output_type": "display_data"
    }
   ],
   "source": [
    "fig, ax = plt.subplots(figsize=(16,8))\n",
    "sb.lineplot(x = df['Date'], y = df['Close'], ax=ax, data=df, color='green')\n",
    "sb.set_style('darkgrid')\n",
    "ax.set_xlabel('Date')\n",
    "ax.set_ylabel('Y')\n",
    "plt.show()"
   ]
  },
  {
   "cell_type": "code",
   "execution_count": 96,
   "id": "92ab672a",
   "metadata": {},
   "outputs": [],
   "source": [
    "df['Year'] = df['Date'].dt.year\n",
    "df['Month'] = df['Date'].dt.month\n",
    "df['Day'] = df['Date'].dt.day"
   ]
  },
  {
   "cell_type": "code",
   "execution_count": 97,
   "id": "96574764",
   "metadata": {},
   "outputs": [
    {
     "data": {
      "text/html": [
       "<div>\n",
       "<style scoped>\n",
       "    .dataframe tbody tr th:only-of-type {\n",
       "        vertical-align: middle;\n",
       "    }\n",
       "\n",
       "    .dataframe tbody tr th {\n",
       "        vertical-align: top;\n",
       "    }\n",
       "\n",
       "    .dataframe thead th {\n",
       "        text-align: right;\n",
       "    }\n",
       "</style>\n",
       "<table border=\"1\" class=\"dataframe\">\n",
       "  <thead>\n",
       "    <tr style=\"text-align: right;\">\n",
       "      <th></th>\n",
       "      <th>Day</th>\n",
       "      <th>Month</th>\n",
       "      <th>Year</th>\n",
       "      <th>High</th>\n",
       "      <th>Open</th>\n",
       "      <th>Low</th>\n",
       "      <th>Close</th>\n",
       "    </tr>\n",
       "  </thead>\n",
       "  <tbody>\n",
       "    <tr>\n",
       "      <th>9205</th>\n",
       "      <td>26</td>\n",
       "      <td>3</td>\n",
       "      <td>1986</td>\n",
       "      <td>0.070576</td>\n",
       "      <td>0.062951</td>\n",
       "      <td>0.062951</td>\n",
       "      <td>0.062951</td>\n",
       "    </tr>\n",
       "    <tr>\n",
       "      <th>9206</th>\n",
       "      <td>25</td>\n",
       "      <td>3</td>\n",
       "      <td>1986</td>\n",
       "      <td>0.062951</td>\n",
       "      <td>0.062951</td>\n",
       "      <td>0.062951</td>\n",
       "      <td>0.062951</td>\n",
       "    </tr>\n",
       "    <tr>\n",
       "      <th>9207</th>\n",
       "      <td>24</td>\n",
       "      <td>3</td>\n",
       "      <td>1986</td>\n",
       "      <td>0.062951</td>\n",
       "      <td>0.062951</td>\n",
       "      <td>0.062951</td>\n",
       "      <td>0.062951</td>\n",
       "    </tr>\n",
       "    <tr>\n",
       "      <th>9208</th>\n",
       "      <td>21</td>\n",
       "      <td>3</td>\n",
       "      <td>1986</td>\n",
       "      <td>0.070576</td>\n",
       "      <td>0.070576</td>\n",
       "      <td>0.062951</td>\n",
       "      <td>0.062951</td>\n",
       "    </tr>\n",
       "    <tr>\n",
       "      <th>9209</th>\n",
       "      <td>20</td>\n",
       "      <td>3</td>\n",
       "      <td>1986</td>\n",
       "      <td>0.070576</td>\n",
       "      <td>0.070576</td>\n",
       "      <td>0.062951</td>\n",
       "      <td>0.070576</td>\n",
       "    </tr>\n",
       "    <tr>\n",
       "      <th>9210</th>\n",
       "      <td>19</td>\n",
       "      <td>3</td>\n",
       "      <td>1986</td>\n",
       "      <td>0.070576</td>\n",
       "      <td>0.070576</td>\n",
       "      <td>0.070576</td>\n",
       "      <td>0.070576</td>\n",
       "    </tr>\n",
       "    <tr>\n",
       "      <th>9211</th>\n",
       "      <td>18</td>\n",
       "      <td>3</td>\n",
       "      <td>1986</td>\n",
       "      <td>0.070576</td>\n",
       "      <td>0.070576</td>\n",
       "      <td>0.070576</td>\n",
       "      <td>0.070576</td>\n",
       "    </tr>\n",
       "    <tr>\n",
       "      <th>9212</th>\n",
       "      <td>17</td>\n",
       "      <td>3</td>\n",
       "      <td>1986</td>\n",
       "      <td>0.070576</td>\n",
       "      <td>0.070576</td>\n",
       "      <td>0.070576</td>\n",
       "      <td>0.070576</td>\n",
       "    </tr>\n",
       "    <tr>\n",
       "      <th>9213</th>\n",
       "      <td>14</td>\n",
       "      <td>3</td>\n",
       "      <td>1986</td>\n",
       "      <td>0.070576</td>\n",
       "      <td>0.070576</td>\n",
       "      <td>0.070576</td>\n",
       "      <td>0.070576</td>\n",
       "    </tr>\n",
       "    <tr>\n",
       "      <th>9214</th>\n",
       "      <td>13</td>\n",
       "      <td>3</td>\n",
       "      <td>1986</td>\n",
       "      <td>0.070576</td>\n",
       "      <td>0.062951</td>\n",
       "      <td>0.062951</td>\n",
       "      <td>0.070576</td>\n",
       "    </tr>\n",
       "  </tbody>\n",
       "</table>\n",
       "</div>"
      ],
      "text/plain": [
       "      Day  Month  Year      High      Open       Low     Close\n",
       "9205   26      3  1986  0.070576  0.062951  0.062951  0.062951\n",
       "9206   25      3  1986  0.062951  0.062951  0.062951  0.062951\n",
       "9207   24      3  1986  0.062951  0.062951  0.062951  0.062951\n",
       "9208   21      3  1986  0.070576  0.070576  0.062951  0.062951\n",
       "9209   20      3  1986  0.070576  0.070576  0.062951  0.070576\n",
       "9210   19      3  1986  0.070576  0.070576  0.070576  0.070576\n",
       "9211   18      3  1986  0.070576  0.070576  0.070576  0.070576\n",
       "9212   17      3  1986  0.070576  0.070576  0.070576  0.070576\n",
       "9213   14      3  1986  0.070576  0.070576  0.070576  0.070576\n",
       "9214   13      3  1986  0.070576  0.062951  0.062951  0.070576"
      ]
     },
     "execution_count": 97,
     "metadata": {},
     "output_type": "execute_result"
    }
   ],
   "source": [
    "msft = df[['Day', 'Month', 'Year', 'High', 'Open', 'Low', 'Close']]\n",
    "msft.tail(10)"
   ]
  },
  {
   "cell_type": "code",
   "execution_count": 98,
   "id": "8e7105e2",
   "metadata": {},
   "outputs": [],
   "source": [
    "# Separate features from the target\n",
    "X = msft.loc[:, msft.columns != 'Close']\n",
    "y = msft['Close']"
   ]
  },
  {
   "cell_type": "code",
   "execution_count": 99,
   "id": "19782665",
   "metadata": {},
   "outputs": [
    {
     "name": "stdout",
     "output_type": "stream",
     "text": [
      "(9215, 6)\n",
      "(9215,)\n"
     ]
    }
   ],
   "source": [
    "print(X.shape)\n",
    "print(y.shape)"
   ]
  },
  {
   "cell_type": "code",
   "execution_count": 100,
   "id": "4b8ce6c2",
   "metadata": {},
   "outputs": [
    {
     "name": "stdout",
     "output_type": "stream",
     "text": [
      "(7372, 6)\n",
      "(7372,)\n",
      "(1843, 6)\n",
      "(1843,)\n"
     ]
    }
   ],
   "source": [
    "X_train, X_test, y_train, y_test = train_test_split(X,y,test_size=0.2)\n",
    "print(X_train.shape)\n",
    "print(y_train.shape)\n",
    "print(X_test.shape)\n",
    "print(y_test.shape)"
   ]
  },
  {
   "cell_type": "code",
   "execution_count": 101,
   "id": "d0a537a6",
   "metadata": {},
   "outputs": [],
   "source": [
    "\n",
    "baseline_model = keras.Sequential([\n",
    "    keras.layers.Dense(64, input_shape=X_train.shape[1:], activation='relu'),\n",
    "    keras.layers.Dense(64, activation='relu'),\n",
    "    keras.layers.Dense(8, activation='relu'),\n",
    "    tf.keras.layers.Dense(1),\n",
    "])\n",
    "baseline_model.build(X_train.shape[1:])"
   ]
  },
  {
   "cell_type": "code",
   "execution_count": 102,
   "id": "e3290697",
   "metadata": {},
   "outputs": [
    {
     "name": "stdout",
     "output_type": "stream",
     "text": [
      "Model: \"sequential_6\"\n",
      "_________________________________________________________________\n",
      " Layer (type)                Output Shape              Param #   \n",
      "=================================================================\n",
      " dense_23 (Dense)            (None, 64)                448       \n",
      "                                                                 \n",
      " dense_24 (Dense)            (None, 64)                4160      \n",
      "                                                                 \n",
      " dense_25 (Dense)            (None, 8)                 520       \n",
      "                                                                 \n",
      " dense_26 (Dense)            (None, 1)                 9         \n",
      "                                                                 \n",
      "=================================================================\n",
      "Total params: 5,137\n",
      "Trainable params: 5,137\n",
      "Non-trainable params: 0\n",
      "_________________________________________________________________\n"
     ]
    }
   ],
   "source": [
    "baseline_model.summary()"
   ]
  },
  {
   "cell_type": "code",
   "execution_count": 103,
   "id": "abd19ba5",
   "metadata": {},
   "outputs": [],
   "source": [
    "baseline_model.compile(\n",
    "    optimizer=tf.keras.optimizers.RMSprop(0.001),\n",
    "    loss='mse', metrics=['mse', 'mae'])"
   ]
  },
  {
   "cell_type": "code",
   "execution_count": 104,
   "id": "5c1102b3",
   "metadata": {},
   "outputs": [
    {
     "name": "stdout",
     "output_type": "stream",
     "text": [
      "Epoch 1/200\n"
     ]
    },
    {
     "name": "stderr",
     "output_type": "stream",
     "text": [
      "/opt/miniconda3/envs/tensorflow/lib/python3.9/site-packages/keras/engine/data_adapter.py:1699: FutureWarning: The behavior of `series[i:j]` with an integer-dtype index is deprecated. In a future version, this will be treated as *label-based* indexing, consistent with e.g. `series[i]` lookups. To retain the old behavior, use `series.iloc[i:j]`. To get the future behavior, use `series.loc[i:j]`.\n",
      "  return t[start:end]\n",
      "2022-12-09 02:42:27.339028: I tensorflow/core/grappler/optimizers/custom_graph_optimizer_registry.cc:114] Plugin optimizer for device_type GPU is enabled.\n"
     ]
    },
    {
     "name": "stdout",
     "output_type": "stream",
     "text": [
      "185/185 [==============================] - ETA: 0s - loss: 1015.1749 - mse: 1015.1749 - mae: 21.0927"
     ]
    },
    {
     "name": "stderr",
     "output_type": "stream",
     "text": [
      "2022-12-09 02:42:30.532322: I tensorflow/core/grappler/optimizers/custom_graph_optimizer_registry.cc:114] Plugin optimizer for device_type GPU is enabled.\n"
     ]
    },
    {
     "name": "stdout",
     "output_type": "stream",
     "text": [
      "185/185 [==============================] - 4s 18ms/step - loss: 1015.1749 - mse: 1015.1749 - mae: 21.0927 - val_loss: 358.0447 - val_mse: 358.0447 - val_mae: 18.1589\n",
      "Epoch 2/200\n",
      "185/185 [==============================] - 2s 12ms/step - loss: 194.5037 - mse: 194.5037 - mae: 12.4492 - val_loss: 199.5539 - val_mse: 199.5539 - val_mae: 11.0667\n",
      "Epoch 3/200\n",
      "185/185 [==============================] - 2s 13ms/step - loss: 94.1342 - mse: 94.1342 - mae: 7.6615 - val_loss: 16.5890 - val_mse: 16.5890 - val_mae: 3.3492\n",
      "Epoch 4/200\n",
      "185/185 [==============================] - 2s 12ms/step - loss: 69.3087 - mse: 69.3087 - mae: 6.9203 - val_loss: 55.5631 - val_mse: 55.5631 - val_mae: 5.3338\n",
      "Epoch 5/200\n",
      "185/185 [==============================] - 2s 12ms/step - loss: 51.9560 - mse: 51.9560 - mae: 6.2187 - val_loss: 32.6511 - val_mse: 32.6511 - val_mae: 5.4887\n",
      "Epoch 6/200\n",
      "185/185 [==============================] - 2s 12ms/step - loss: 42.9746 - mse: 42.9746 - mae: 5.3888 - val_loss: 36.3310 - val_mse: 36.3310 - val_mae: 5.7621\n",
      "Epoch 7/200\n",
      "185/185 [==============================] - 2s 12ms/step - loss: 38.1809 - mse: 38.1809 - mae: 5.1362 - val_loss: 9.8218 - val_mse: 9.8218 - val_mae: 2.3335\n",
      "Epoch 8/200\n",
      "185/185 [==============================] - 2s 12ms/step - loss: 29.4321 - mse: 29.4321 - mae: 4.0887 - val_loss: 37.4627 - val_mse: 37.4627 - val_mae: 5.5277\n",
      "Epoch 9/200\n",
      "185/185 [==============================] - 2s 12ms/step - loss: 27.0068 - mse: 27.0068 - mae: 3.8329 - val_loss: 13.8008 - val_mse: 13.8008 - val_mae: 3.4666\n",
      "Epoch 10/200\n",
      "185/185 [==============================] - 2s 12ms/step - loss: 24.7908 - mse: 24.7908 - mae: 3.8707 - val_loss: 9.1775 - val_mse: 9.1775 - val_mae: 2.7491\n",
      "Epoch 11/200\n",
      "185/185 [==============================] - 2s 12ms/step - loss: 22.8576 - mse: 22.8576 - mae: 3.7517 - val_loss: 7.2897 - val_mse: 7.2897 - val_mae: 2.5506\n",
      "Epoch 12/200\n",
      "185/185 [==============================] - 2s 12ms/step - loss: 20.9663 - mse: 20.9663 - mae: 3.6541 - val_loss: 65.9129 - val_mse: 65.9129 - val_mae: 7.7447\n",
      "Epoch 13/200\n",
      "185/185 [==============================] - 2s 13ms/step - loss: 20.9344 - mse: 20.9344 - mae: 3.5072 - val_loss: 37.7123 - val_mse: 37.7123 - val_mae: 5.3889\n",
      "Epoch 14/200\n",
      "185/185 [==============================] - 2s 13ms/step - loss: 18.4803 - mse: 18.4803 - mae: 3.1028 - val_loss: 3.9575 - val_mse: 3.9575 - val_mae: 1.5987\n",
      "Epoch 15/200\n",
      "185/185 [==============================] - 2s 12ms/step - loss: 16.6775 - mse: 16.6775 - mae: 3.2181 - val_loss: 55.7694 - val_mse: 55.7694 - val_mae: 6.8400\n",
      "Epoch 16/200\n",
      "185/185 [==============================] - 2s 13ms/step - loss: 14.3761 - mse: 14.3761 - mae: 2.7846 - val_loss: 2.2907 - val_mse: 2.2907 - val_mae: 1.2684\n",
      "Epoch 17/200\n",
      "185/185 [==============================] - 2s 13ms/step - loss: 14.7626 - mse: 14.7626 - mae: 2.7571 - val_loss: 1.5890 - val_mse: 1.5890 - val_mae: 0.9318\n",
      "Epoch 18/200\n",
      "185/185 [==============================] - 2s 12ms/step - loss: 13.2366 - mse: 13.2366 - mae: 2.4996 - val_loss: 17.6543 - val_mse: 17.6543 - val_mae: 3.6655\n",
      "Epoch 19/200\n",
      "185/185 [==============================] - 2s 12ms/step - loss: 12.5977 - mse: 12.5977 - mae: 2.4661 - val_loss: 33.1604 - val_mse: 33.1604 - val_mae: 3.9641\n",
      "Epoch 20/200\n",
      "185/185 [==============================] - 2s 13ms/step - loss: 11.9695 - mse: 11.9695 - mae: 2.4340 - val_loss: 26.8358 - val_mse: 26.8358 - val_mae: 4.1521\n",
      "Epoch 21/200\n",
      "185/185 [==============================] - 2s 12ms/step - loss: 11.8430 - mse: 11.8430 - mae: 2.4265 - val_loss: 2.5358 - val_mse: 2.5358 - val_mae: 1.0250\n",
      "Epoch 22/200\n",
      "185/185 [==============================] - 2s 12ms/step - loss: 10.0769 - mse: 10.0769 - mae: 2.1804 - val_loss: 7.5419 - val_mse: 7.5419 - val_mae: 2.4146\n",
      "Epoch 23/200\n",
      "185/185 [==============================] - 2s 12ms/step - loss: 10.2338 - mse: 10.2338 - mae: 2.2899 - val_loss: 13.3263 - val_mse: 13.3263 - val_mae: 2.5352\n",
      "Epoch 23: early stopping\n"
     ]
    }
   ],
   "source": [
    "early_stopping = keras.callbacks.EarlyStopping(monitor='val_loss', patience=6, verbose=1)\n",
    "baseline_model_history = baseline_model.fit(X_train,y_train,validation_split=0.2,epochs=200, callbacks=[early_stopping])"
   ]
  },
  {
   "cell_type": "code",
   "execution_count": 105,
   "id": "5dd9cac9",
   "metadata": {},
   "outputs": [
    {
     "data": {
      "image/png": "[encoded data removed]",
      "text/plain": [
       "<Figure size 1600x800 with 1 Axes>"
      ]
     },
     "metadata": {},
     "output_type": "display_data"
    }
   ],
   "source": [
    "pd.DataFrame(baseline_model_history.history).plot(figsize=(16, 8))\n",
    "plt.grid(True)\n",
    "plt.show()"
   ]
  },
  {
   "cell_type": "code",
   "execution_count": 106,
   "id": "048293d5",
   "metadata": {},
   "outputs": [
    {
     "data": {
      "image/png": "[encoded data removed]",
      "text/plain": [
       "<Figure size 640x480 with 1 Axes>"
      ]
     },
     "metadata": {},
     "output_type": "display_data"
    }
   ],
   "source": [
    "\n",
    "baseline_model_history.history.keys()\n",
    "plt.plot(baseline_model_history.history['mse'], label='mse')\n",
    "plt.plot(baseline_model_history.history['val_mse'], label = 'val_mse')\n",
    "sb.set_style('whitegrid')\n",
    "plt.plot(figsize=(10,5))\n",
    "plt.xlabel('Epoch')\n",
    "plt.ylabel('Accuracy')\n",
    "\n",
    "plt.legend(loc='lower right')\n",
    "plt.show()\n"
   ]
  },
  {
   "cell_type": "code",
   "execution_count": 107,
   "id": "9e265bf7",
   "metadata": {},
   "outputs": [
    {
     "name": "stdout",
     "output_type": "stream",
     "text": [
      "58/58 [==============================] - 0s 7ms/step - loss: 13.2461 - mse: 13.2461 - mae: 2.5567\n"
     ]
    }
   ],
   "source": [
    "loss, mae, mse = baseline_model.evaluate(X_test, y_test)"
   ]
  },
  {
   "cell_type": "code",
   "execution_count": 108,
   "id": "a4ef680e",
   "metadata": {},
   "outputs": [
    {
     "name": "stdout",
     "output_type": "stream",
     "text": [
      "58/58 [==============================] - 0s 3ms/step\n"
     ]
    },
    {
     "name": "stderr",
     "output_type": "stream",
     "text": [
      "2022-12-09 02:43:36.345719: I tensorflow/core/grappler/optimizers/custom_graph_optimizer_registry.cc:114] Plugin optimizer for device_type GPU is enabled.\n"
     ]
    },
    {
     "name": "stdout",
     "output_type": "stream",
     "text": [
      "5649     23.48480\n",
      "6255     12.14950\n",
      "6661      4.66768\n",
      "601     180.26600\n",
      "7217      1.85448\n",
      "          ...    \n",
      "5626     21.67710\n",
      "6988      2.69486\n",
      "4229     21.15690\n",
      "7683      1.76782\n",
      "6488      7.37049\n",
      "Name: Close, Length: 1843, dtype: float64\n"
     ]
    }
   ],
   "source": [
    "#print(X_test[:1])\n",
    "y_pred = baseline_model.predict(X_test)\n",
    "print(y_test)"
   ]
  },
  {
   "cell_type": "code",
   "execution_count": 82,
   "id": "9b86b87d",
   "metadata": {},
   "outputs": [
    {
     "name": "stdout",
     "output_type": "stream",
     "text": [
      "INFO:tensorflow:Assets written to: stock_prediction_model.model/assets\n"
     ]
    }
   ],
   "source": [
    "stock_prediction_model = \"stock_prediction_model.model\"\n",
    "tf.keras.models.save_model(baseline_model, stock_prediction_model)\n"
   ]
  },
  {
   "cell_type": "code",
   "execution_count": 83,
   "id": "67479344",
   "metadata": {},
   "outputs": [],
   "source": [
    "converter = tf.lite.TFLiteConverter.from_saved_model(stock_prediction_model)"
   ]
  },
  {
   "cell_type": "code",
   "execution_count": 84,
   "id": "912f7b04",
   "metadata": {},
   "outputs": [
    {
     "name": "stderr",
     "output_type": "stream",
     "text": [
      "2022-12-09 02:38:28.011587: W tensorflow/compiler/mlir/lite/python/tf_tfl_flatbuffer_helpers.cc:362] Ignored output_format.\n",
      "2022-12-09 02:38:28.011612: W tensorflow/compiler/mlir/lite/python/tf_tfl_flatbuffer_helpers.cc:365] Ignored drop_control_dependency.\n",
      "2022-12-09 02:38:28.012310: I tensorflow/cc/saved_model/reader.cc:45] Reading SavedModel from: stock_prediction_model.model\n",
      "2022-12-09 02:38:28.013601: I tensorflow/cc/saved_model/reader.cc:89] Reading meta graph with tags { serve }\n",
      "2022-12-09 02:38:28.013610: I tensorflow/cc/saved_model/reader.cc:130] Reading SavedModel debug info (if present) from: stock_prediction_model.model\n",
      "2022-12-09 02:38:28.016572: I tensorflow/compiler/mlir/mlir_graph_optimization_pass.cc:354] MLIR V1 optimization pass is not enabled\n",
      "2022-12-09 02:38:28.017343: I tensorflow/cc/saved_model/loader.cc:229] Restoring SavedModel bundle.\n",
      "2022-12-09 02:38:28.054119: I tensorflow/cc/saved_model/loader.cc:213] Running initialization op on SavedModel bundle at path: stock_prediction_model.model\n",
      "2022-12-09 02:38:28.060391: I tensorflow/cc/saved_model/loader.cc:305] SavedModel load for tags { serve }; Status: success: OK. Took 48086 microseconds.\n",
      "2022-12-09 02:38:28.091829: I tensorflow/compiler/mlir/tensorflow/utils/dump_mlir_util.cc:268] disabling MLIR crash reproducer, set env var `MLIR_CRASH_REPRODUCER_DIRECTORY` to enable.\n"
     ]
    }
   ],
   "source": [
    "tflite_quant_model = converter.convert()\n",
    "with tf.io.gfile.GFile('stockPredictionModelApp.tflite', 'wb') as f:\n",
    "    f.write(tflite_quant_model)"
   ]
  },
  {
   "cell_type": "code",
   "execution_count": 85,
   "id": "e2ab3657",
   "metadata": {},
   "outputs": [],
   "source": [
    "import pathlib"
   ]
  },
  {
   "cell_type": "code",
   "execution_count": 86,
   "id": "cf2e413a",
   "metadata": {},
   "outputs": [
    {
     "name": "stdout",
     "output_type": "stream",
     "text": [
      "<bound method SignatureRunner.get_output_details of <tensorflow.lite.python.interpreter.SignatureRunner object at 0x2bffb78e0>>\n"
     ]
    }
   ],
   "source": [
    "interpreter = tf.lite.Interpreter('stockPredictionModelApp.tflite')\n",
    "interpreter.allocate_tensors()\n",
    "\n",
    "input_details = interpreter.get_signature_list()\n",
    "output_details = interpreter.get_signature_runner()\n",
    "\n",
    "print(output_details.get_output_details)"
   ]
  },
  {
   "cell_type": "code",
   "execution_count": 87,
   "id": "35eca3ef",
   "metadata": {},
   "outputs": [
    {
     "ename": "KeyError",
     "evalue": "0",
     "output_type": "error",
     "traceback": [
      "\u001b[0;31m---------------------------------------------------------------------------\u001b[0m",
      "\u001b[0;31mKeyError\u001b[0m                                  Traceback (most recent call last)",
      "Cell \u001b[0;32mIn [87], line 1\u001b[0m\n\u001b[0;32m----> 1\u001b[0m input_shape \u001b[38;5;241m=\u001b[39m input_details[\u001b[38;5;241m0\u001b[39m][\u001b[38;5;124m'\u001b[39m\u001b[38;5;124mshape\u001b[39m\u001b[38;5;124m'\u001b[39m]\n\u001b[1;32m      2\u001b[0m output_shape \u001b[38;5;241m=\u001b[39m output_details[\u001b[38;5;241m0\u001b[39m][\u001b[38;5;124m'\u001b[39m\u001b[38;5;124mshape\u001b[39m\u001b[38;5;124m'\u001b[39m]\n\u001b[1;32m      4\u001b[0m \u001b[38;5;28mprint\u001b[39m(input_shape)\n",
      "\u001b[0;31mKeyError\u001b[0m: 0"
     ]
    }
   ],
   "source": [
    "input_shape = input_details[0]['shape']\n",
    "output_shape = output_details[0]['shape']\n",
    "\n",
    "print(input_shape)\n",
    "print(output_shape)"
   ]
  },
  {
   "cell_type": "code",
   "execution_count": null,
   "id": "4c9079be",
   "metadata": {},
   "outputs": [],
   "source": [
    "print(input_details)\n",
    "print(output_details)"
   ]
  },
  {
   "cell_type": "code",
   "execution_count": null,
   "id": "7cee01c8",
   "metadata": {},
   "outputs": [],
   "source": []
  }
 ],
 "metadata": {
  "kernelspec": {
   "display_name": "Python 3 (ipykernel)",
   "language": "python",
   "name": "python3"
  },
  "language_info": {
   "codemirror_mode": {
    "name": "ipython",
    "version": 3
   },
   "file_extension": ".py",
   "mimetype": "text/x-python",
   "name": "python",
   "nbconvert_exporter": "python",
   "pygments_lexer": "ipython3",
   "version": "3.9.13"
  }
 },
 "nbformat": 4,
 "nbformat_minor": 5
}
